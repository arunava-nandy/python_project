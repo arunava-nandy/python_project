{
 "cells": [
  {
   "cell_type": "markdown",
   "metadata": {},
   "source": [
    "# <center>PGP Data Science Engineering</center>\n",
    "## <center>Introduction to Programming – Mini Project:</center>\n"
   ]
  },
  {
   "cell_type": "markdown",
   "metadata": {},
   "source": [
    "### Problem 1:\n",
    "\n",
    "1. Write a program to calculate area of shapes. Your program should be capable of calculating the area of a square, rectangle, triangle and a circle. The user should be presented with options to select the shape. Based on which shape is chosed by the user, the program should ask for the appropriate input and print the resulting area on the screen.\n",
    "\n",
    "When the program is run, the screen should display something like this:\n",
    "\n",
    "**Which shape would you like to calculate the area for? Please enter the option number-**<br>\n",
    "**1. Square**<br>\n",
    "**2. Rectangle**<br>\n",
    "**3. Triangle**<br>\n",
    "**4. Circle**<br>\n",
    "**Enter Option: _**\n",
    "\n",
    "Say the user enters the option 1.\n",
    "\n",
    "**Please enter the length of a side: _**\n",
    "\n",
    "If the user enters a value of 5. The output should be:\n",
    "\n",
    "**The area of the square is 25**\n",
    "\n",
    "This program should indicate that the input is invalid if the user enters a character instead of a number as input. For instance if the user enters a value of ‘a’ instead of 5 in the previous example the program should prompt:\n",
    "\n",
    "**Invalid input, please enter a number: _**\n"
   ]
  },
  {
   "cell_type": "code",
   "execution_count": 3,
   "metadata": {},
   "outputs": [
    {
     "name": "stdout",
     "output_type": "stream",
     "text": [
      "Which shape would you like to calculate the area for? Please enter the option number-\n",
      "1. Square\n",
      "2. Rectangle\n",
      "3. Triangle\n",
      "4. Circle \n",
      "\n",
      "1\n",
      "please enter the length of a side:5\n",
      "Area of a square is:  25.0\n"
     ]
    }
   ],
   "source": [
    "print(\"\"\"Which shape would you like to calculate the area for? Please enter the option number-\n",
    "1. Square\n",
    "2. Rectangle\n",
    "3. Triangle\n",
    "4. Circle \\n\"\"\")\n",
    "choice=int(input())\n",
    "import math\n",
    "if choice==1:\n",
    "    a=input(\"please enter the length of a side:\")\n",
    "    if a.replace('.', '', 1).isdigit():\n",
    "        k=float(a)\n",
    "        print(\"Area of a square is: \",k*k)\n",
    "    else:\n",
    "        print(\"Invalid input, please enter a number\")\n",
    "elif choice==2:\n",
    "    a=input(\"please enter the length of the side:\")\n",
    "    b=input(\"please enter the breadth of the side:\")\n",
    "    if a.replace('.', '', 1).isdigit():\n",
    "        if b.replace('.', '', 1).isdigit():\n",
    "            k=float(a)\n",
    "            l=float(b)\n",
    "            print(\"Area of a rectangle is: \",k*l)\n",
    "    else:\n",
    "        print(\"Invalid input, please enter a number\")\n",
    "elif choice==3:\n",
    "    a=input(\"please enter the length of the height:\")\n",
    "    b=input(\"please enter the length of the base:\")\n",
    "    if a.replace('.', '', 1).isdigit():\n",
    "        if b.replace('.', '', 1).isdigit():\n",
    "            k=float(a)\n",
    "            l=float(b)\n",
    "            m=0.5*k*l\n",
    "            print(\"Area of a triangle is: \",m)\n",
    "    else:\n",
    "        print(\"Invalid input, please enter a number\")\n",
    "elif choice==4:\n",
    "    a=input(\"please enter the radius:\")\n",
    "    if a.replace('.', '', 1).isdigit():\n",
    "        k=float(a)\n",
    "        c=math.pi*k*k\n",
    "        print(\"Area of a square is: \",c)\n",
    "    else:\n",
    "        print(\"Invalid input, please enter a number\")\n",
    "else:\n",
    "    print('wrong input')"
   ]
  },
  {
   "cell_type": "markdown",
   "metadata": {},
   "source": [
    "### Problem 2:\n",
    "\n",
    "Create and encrypter in python based on the ceaser cipher. It is a substitution cipher where each character of the original text is shifted a certain number characters in the alphabet. Write a function that would require 2 arguments – the input text to be encrypted and a key. For eg: Given the input text ‘hello’ and the key 3, the resulting encryted text would be ‘khoor’. Here you can see that every character in the string hello is shifted by 3 characters. ‘h’ has shifted to ‘k’, ‘e’ has shifted to ‘h’ and so on. If a key of 5 were used, the resulting string would be ‘mjqqt’. This function should be capable of ignoring any characters which are not alphabets. Th2 character ‘z’ entered b\n",
    "y the user for a key of 3 would result in ‘c’.\n",
    "\n",
    "Usage:<br>\n",
    "**encrypt(‘hello world!’, 3)**<br>\n",
    "**‘khoor zruog!’**\n",
    "\n",
    "Similarly create decrypter which can decode the encryted text when provided the input text and key\n",
    "\n",
    "Usage:<br>\n",
    "**decrypt(‘khoor zruog!’, 3)**<br>\n",
    "**‘hello world!’**\n",
    "\n",
    "For the sake of simplicity you can assume that input solely consists of lowercase alphabets, spaces and punctuation symbols. Numbers in the input text would also be ignored similar to symbols."
   ]
  },
  {
   "cell_type": "code",
   "execution_count": 2,
   "metadata": {},
   "outputs": [
    {
     "name": "stdout",
     "output_type": "stream",
     "text": [
      "enter the stringhello world\n",
      "enter the key value3\n",
      "encrypt( hello world , 3 )\n",
      "the encrypted string: khoor zruog\n",
      "decrypt( khoor zruog , 3 )\n",
      "the decrypted string: hello world\n"
     ]
    }
   ],
   "source": [
    "def encrypt(text,key):\n",
    "    result=''\n",
    "    for i in range(len(text)):\n",
    "        char=text[i]\n",
    "        if char.isupper():\n",
    "            result=result+chr((ord(char)+key-65)%26+65)\n",
    "        elif char.islower():\n",
    "            result=result+chr((ord(char)+key-97)%26+97)\n",
    "        else:\n",
    "            result=result+char\n",
    "    \n",
    "    return result\n",
    "\n",
    "def decrypt(k,key):\n",
    "    result1=''\n",
    "    for j in range(len(k)):\n",
    "        char1=k[j]\n",
    "        if char1.isupper():\n",
    "            result1=result1+chr((ord(char1)-key-65)%26+65)\n",
    "        elif char1.islower():\n",
    "            result1=result1+chr((ord(char1)-key-97)%26+97)\n",
    "        else:\n",
    "            result1=result1+char1\n",
    "    return result1\n",
    "\n",
    "text=input(\"enter the string\")\n",
    "key=int(input(\"enter the key value\"))\n",
    "print('encrypt(',text,',',key,')')\n",
    "print(\"the encrypted string:\", encrypt(text,key))\n",
    "\n",
    "k=encrypt(text,key)\n",
    "print('decrypt(',k,',',key,')')\n",
    "print(\"the decrypted string:\", decrypt(k,key))"
   ]
  },
  {
   "cell_type": "code",
   "execution_count": 2,
   "metadata": {},
   "outputs": [
    {
     "data": {
      "text/plain": [
       "'ttronq.'"
      ]
     },
     "execution_count": 2,
     "metadata": {},
     "output_type": "execute_result"
    }
   ],
   "source": [
    "a='Sttronq.'\n",
    "a.replace(\"S\",'')"
   ]
  },
  {
   "cell_type": "code",
   "execution_count": null,
   "metadata": {},
   "outputs": [],
   "source": []
  }
 ],
 "metadata": {
  "kernelspec": {
   "display_name": "Python 3",
   "language": "python",
   "name": "python3"
  },
  "language_info": {
   "codemirror_mode": {
    "name": "ipython",
    "version": 3
   },
   "file_extension": ".py",
   "mimetype": "text/x-python",
   "name": "python",
   "nbconvert_exporter": "python",
   "pygments_lexer": "ipython3",
   "version": "3.8.5"
  }
 },
 "nbformat": 4,
 "nbformat_minor": 2
}
